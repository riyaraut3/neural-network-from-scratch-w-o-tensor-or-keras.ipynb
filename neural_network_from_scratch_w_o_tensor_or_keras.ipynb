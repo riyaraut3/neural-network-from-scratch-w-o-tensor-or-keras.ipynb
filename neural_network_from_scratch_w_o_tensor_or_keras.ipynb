{
  "nbformat": 4,
  "nbformat_minor": 0,
  "metadata": {
    "colab": {
      "provenance": []
    },
    "kernelspec": {
      "name": "python3",
      "display_name": "Python 3"
    }
  },
  "cells": [
    {
      "cell_type": "code",
      "metadata": {
        "id": "ZOp9MLuEaIgy"
      },
      "source": [
        "#importing libraries\n",
        "import numpy as np\n",
        "%matplotlib inline\n",
        "import matplotlib\n",
        "import matplotlib.pyplot as plt\n",
        "from sklearn.datasets import fetch_openml #for the dataset of handwritten digits images which has alomst 70,000 digits with labels marked from 0 to 9\n",
        "from sklearn.metrics import classification_report, confusion_matrix #to track the performance of the model\n"
      ],
      "execution_count": null,
      "outputs": []
    },
    {
      "cell_type": "code",
      "metadata": {
        "id": "YRHr3YYNb07O"
      },
      "source": [
        "# Read and transform data\n",
        "mnist = fetch_openml('mnist_784') #reading the data using scikit learn function fetch ml data MINST_784 is the name of the dataset\n",
        "inputData, y = mnist[\"data\"], mnist[\"target\"]# within MINST_784 there are two entities (target= tag or label identified from 0-9 what handwritten number it actually is) (data= image which is hnadwritten number)\n",
        "#therefore from the above line of code input data is the  image data or \"data\" and y is the labels or \"target\""
      ],
      "execution_count": null,
      "outputs": []
    },
    {
      "cell_type": "code",
      "metadata": {
        "id": "2_ijr1EMcvXE"
      },
      "source": [
        "# 1) image data is in the form of pixels (image size=28x28=784) and each pixel out of 784 is range from integer 0 to 255\n",
        "inputData = inputData / 255 # 2) but here we want to use the range 0-1 and not 0-255 therefore we divide each pixel by 255 ie. in short each pixel sizes from 0-255 but we want it to range between 0-1\n",
        "nDigits = 10 #total number of classes that is n digits ranging from 0-9 =10 ie. 10=n ranging from 0-9\n",
        "\n",
        "yOneHot = np.zeros([y.shape[0],nDigits]) # creates matrix of zeroes having 70k rows as the sample inputs or targets are 70k and the number of columns as n=10 from 0 to 9 and depending upon the digit to be recognised given between 0-9 it will msake the paricular coloumn as 1 and rest as 0 so if for eg. 8 is the input then leaving 9 column every other column will be 0 and 9 will be one (0-9 range)\n",
        "#using one hot encoding  here named as yOneHot\n",
        "for i in range(y.shape[0]): #goes through all the values of y in the matrix and with the help of one hot encoding\n",
        "    yOneHot[i,int(y[i])]=1 # here we are setting the corresponding column whose digit we have to recognize to 1\n",
        "    # accoring to the i th row the y[i] which is the column is set to 1\n",
        "\n",
        "y = yOneHot # here we replace the value of y with yOnehot with the matrices and where the columns are set to 1 for the regognised value\n",
        "\n",
        "m = 60000 # takin 60k for the training of data and rest 10k for testing\n",
        "m_test = inputData.shape[0] - m\n",
        "\n",
        "y_train, y_test = y[:m,:].reshape(m,nDigits), y[m:,:].reshape(m_test,nDigits) #training and testing\n",
        "InputData_train, InputData_test = inputData[:m,:], inputData[m:,:]\n",
        "\n",
        "np.random.seed(1002) # generates random inputs The seed for these algorithms tells them where to start in the sequence. Change the start point and you get a different sequence. Keep the start point the same, and you get the same sequence again and again. this is used to tweak the neural network"
      ],
      "execution_count": null,
      "outputs": []
    },
    {
      "cell_type": "code",
      "metadata": {
        "id": "pc81id71noMJ",
        "outputId": "f50025a8-535e-430e-dd86-05befaef4e51",
        "colab": {
          "base_uri": "https://localhost:8080/",
          "height": 51
        }
      },
      "source": [
        "y[0:2,:]\n",
        "#y [first two rows , all the columns]\n",
        "# here in the output the first row has  6th column as one therefore 5 number is the image recognized by the system and has that label too\n",
        "# and the second row has 1st column as 1 therefore 0 is thr image number regonised by the system and has that label too\n",
        "\n"
      ],
      "execution_count": null,
      "outputs": [
        {
          "output_type": "execute_result",
          "data": {
            "text/plain": [
              "array([[0., 0., 0., 0., 0., 1., 0., 0., 0., 0.],\n",
              "       [1., 0., 0., 0., 0., 0., 0., 0., 0., 0.]])"
            ]
          },
          "metadata": {
            "tags": []
          },
          "execution_count": 61
        }
      ]
    },
    {
      "cell_type": "code",
      "metadata": {
        "id": "7OwwoYQag9Sx",
        "outputId": "a854af09-c0b0-4442-c621-2e8bc078235d",
        "colab": {
          "base_uri": "https://localhost:8080/",
          "height": 34
        }
      },
      "source": [
        "y[7000,:]\n",
        "\n",
        "\n",
        "\n",
        "#now here the column number which is one is the 9th column and hence the regognized number is 8th\n",
        "#[0,1,2,3,4,5,6,7,8,9] accordingly"
      ],
      "execution_count": null,
      "outputs": [
        {
          "output_type": "execute_result",
          "data": {
            "text/plain": [
              "array([0., 0., 0., 0., 0., 0., 0., 0., 1., 0.])"
            ]
          },
          "metadata": {
            "tags": []
          },
          "execution_count": 62
        }
      ]
    },
    {
      "cell_type": "code",
      "metadata": {
        "id": "UVfzswSsea16",
        "outputId": "86122376-e2f3-41b4-97d7-acabedfe661d",
        "colab": {
          "base_uri": "https://localhost:8080/",
          "height": 265
        }
      },
      "source": [
        "# Show a random input\n",
        "\n",
        "i = 7000 #setting number to 7000\n",
        "plt.imshow(InputData_train[i,:].reshape(28,28), cmap = matplotlib.cm.binary) #28x28 pixel size and binary representation using matplotlib\n",
        "plt.axis(\"off\")\n",
        "plt.show()\n",
        "print(y_train[i,:])"
      ],
      "execution_count": null,
      "outputs": [
        {
          "output_type": "display_data",
          "data": {
            "image/png": "[encoded data removed]",
            "text/plain": [
              "<Figure size 432x288 with 1 Axes>"
            ]
          },
          "metadata": {
            "tags": [],
            "needs_background": "light"
          }
        },
        {
          "output_type": "stream",
          "text": [
            "[0. 1. 0. 0. 0. 0. 0. 0. 0. 0.]\n"
          ],
          "name": "stdout"
        }
      ]
    },
    {
      "cell_type": "code",
      "metadata": {
        "id": "SlqscFtTeeBT"
      },
      "source": [
        "# Define activation, loss, and their derivatives\n",
        "#activation functions and formulas\n",
        "def sigmoid(x):\n",
        "    return 1 / (1 + np.exp(-x))\n",
        "\n",
        "def sigmoid_derivative(z):\n",
        "    return z * (1-z)\n",
        "\n",
        "def relu (x):\n",
        "    return np.maximum(0,x) # ReLU is very simple\n",
        "\n",
        "def relu_derivative(x):\n",
        "    return 0.5 * (np.sign(x)+1) # ReLU derivative is either zero or 1.\n",
        "\n",
        "def CrossEntropyLoss(y, y_hat):\n",
        "    L_sum = np.sum(np.multiply(y, np.log(y_hat)))\n",
        "    m = y.shape[1]\n",
        "    L = -(1/m) * L_sum\n",
        "\n",
        "    return L\n",
        "\n",
        "def softmax(y):\n",
        "    return np.exp(y) / np.sum(np.exp(y), axis=0)\n",
        "\n",
        "def CE_Softmax_Derivative(output, ideal_output):\n",
        "    return output - ideal_output\n",
        "\n",
        "    #applying all of this in the neural network"
      ],
      "execution_count": null,
      "outputs": []
    },
    {
      "cell_type": "code",
      "metadata": {
        "id": "zEWqvUYqem17"
      },
      "source": [
        "inputDim = InputData_train.shape[1] # keeping the same dimensions\n",
        "nHidden = 64 #64 nodes inside the neural network and  is hidden\n",
        "learning_rate = 1 # ita that is set to one the learning rate of the model\n",
        "weight_decay = 0.001 #regularizer on L2 nom of the weight\n",
        "\n",
        "W1 = 0.01*np.random.randn(nHidden, inputDim) #weights from input to the hidden layers Ie. (64 nodes,hidden dimension ie the columns ) and initialising using randn variable, multiplying with a very small number here given as 0.01 so that we dont have large weights which the network has difficulty in adjusting\n",
        "b1 = np.zeros((nHidden, 1))#biasis are usually set to 0\n",
        "W2 = 0.01*np.random.randn(nDigits, nHidden)# second sets of weights from the input layer to the output layer (outputs, hidden layers) fotmar in the circular bracket\n",
        "b2 = np.zeros((nDigits, 1)) # biasis are equal the the output nodes (output,)\n",
        "\n",
        "inputData = InputData_train\n",
        "y = y_train # setting data for neural network"
      ],
      "execution_count": null,
      "outputs": []
    },
    {
      "cell_type": "code",
      "metadata": {
        "id": "0zgomtTyenaB",
        "outputId": "60b95307-8fde-4dc2-8da9-d3a21093ee7e",
        "colab": {
          "base_uri": "https://localhost:8080/",
          "height": 466
        }
      },
      "source": [
        "nEpochs = 100 #number of epochs introduced we will train the neural network for\n",
        "costPlot = np.zeros(nEpochs) # this will store the loss usually called as cost for each epoch\n",
        "\n",
        "for i in range(nEpochs):\n",
        "\n",
        "    Z1 = np.matmul(W1,inputData.T) + b1 # multiplying input data with first set of wieghts(wieghts that connect input data to the hidden layer)and adding biases to make it more accurate\n",
        "    A1 = relu(Z1) #activation function used is ReLu aplied on the W1 set (now after this line is executed the output of the hidden layer is set in A1 activation function)\n",
        "    Z2 = np.matmul(W2,A1) + b2 #now multiplying A1 to the second hidden layer and adding bias\n",
        "    A2 = softmax(Z2) # a2 is the output of neural network A2 will have an output each of 10 dimensions and then they will add upto 1 because the totall probablity is 1\n",
        "\n",
        "    cost = CrossEntropyLoss(y.T, A2) # loss is calculated and ploted uskig the below line of code here in the  cirlciular brackets (targatted value, the o/p of the neural network is given)\n",
        "    costPlot[i] = cost # here cost is stored for each iteration so that we can see how the cost i decreasing with each iteration\n",
        "    # there is a diagram and a very well explaination given in the greatlearning course for the code given below\n",
        "    dZ2 = CE_Softmax_Derivative(A2,y.T) # derivative of loss with respect to z2 is\n",
        "    dW2 = (1./m) * np.matmul(dZ2, A1.T)\n",
        "    db2 = (1./m) * np.sum(dZ2, axis=1, keepdims=True)\n",
        "  #here dividing by m ie. (1/m)so we can compute the entire derivative of the batch together (above code)\n",
        "    dA1 = np.matmul(W2.T, dZ2)\n",
        "    dZ1 = dA1 * relu_derivative(Z1)\n",
        "    dW1 = (1./m) * np.matmul(dZ1, inputData)\n",
        "    db1 = (1./m) * np.sum(dZ1, axis=1, keepdims=True)\n",
        "# here everything is implimented according to the formulas and is similary put inside the functions(below code)\n",
        "    W2 -= learning_rate * dW2 + weight_decay * W2\n",
        "    b2 -= learning_rate * db2\n",
        "    W1 -= learning_rate * dW1 + weight_decay * W1\n",
        "    b1 -= learning_rate * db1\n",
        "\n",
        "    if (i % 10 == 0):\n",
        "        print(\"Epoch\", i, \"cost: \", cost) #every 10th epoch the the output is printed the use of the for loop\n",
        "\n",
        "plt.plot(costPlot) #ploting the cost for all the epochs\n",
        "plt.xlabel('Epochs')\n",
        "plt.ylabel('Training Loss')\n",
        "plt.show"
      ],
      "execution_count": null,
      "outputs": [
        {
          "output_type": "stream",
          "text": [
            "Epoch 0 cost:  2.3025926683067466\n",
            "Epoch 10 cost:  1.3575995606291273\n",
            "Epoch 20 cost:  1.5435466738823724\n",
            "Epoch 30 cost:  1.0957404033897622\n",
            "Epoch 40 cost:  0.9177537929310634\n",
            "Epoch 50 cost:  0.5149939683116712\n",
            "Epoch 60 cost:  0.6243709546604148\n",
            "Epoch 70 cost:  0.4456593950527855\n",
            "Epoch 80 cost:  0.34769817492745114\n",
            "Epoch 90 cost:  0.3251370927925338\n"
          ],
          "name": "stdout"
        },
        {
          "output_type": "execute_result",
          "data": {
            "text/plain": [
              "<function matplotlib.pyplot.show>"
            ]
          },
          "metadata": {
            "tags": []
          },
          "execution_count": 66
        },
        {
          "output_type": "display_data",
          "data": {
            "image/png": "[encoded data removed]",
            "text/plain": [
              "<Figure size 432x288 with 1 Axes>"
            ]
          },
          "metadata": {
            "tags": [],
            "needs_background": "light"
          }
        }
      ]
    },
    {
      "cell_type": "code",
      "metadata": {
        "id": "oVlMjWNOL9gK"
      },
      "source": [
        "# you see that the loss function is decresing as seen in the graph has decreased and the loss has decreased accordingly and if we train the model even more after this the accuracy will decrease the accuracy and we dont want that so we stop training after 100 epochs.\n",
        "# if we decrease the learning rate not much of a diffrence is gonna take place it indicates that 0.3 is the best loss or cost the model can achieve"
      ],
      "execution_count": null,
      "outputs": []
    },
    {
      "cell_type": "code",
      "metadata": {
        "id": "rpjIV6R9esxZ",
        "outputId": "51156ee0-8482-4634-9a3f-78bb21e9ce4f",
        "colab": {
          "base_uri": "https://localhost:8080/",
          "height": 476
        }
      },
      "source": [
        "Z1 = np.matmul(W1, InputData_test.T) + b1\n",
        "A1 = relu(Z1)\n",
        "Z2 = np.matmul(W2, A1) + b2 #forward pass takes place\n",
        "\n",
        "predictions = np.argmax(Z2, axis=0)\n",
        "labels = np.argmax(y_test.T, axis=0)\n",
        "\n",
        "print(confusion_matrix(predictions, labels)) #pre built functions used\n",
        "print(classification_report(predictions, labels))\n"
      ],
      "execution_count": null,
      "outputs": [
        {
          "output_type": "stream",
          "text": [
            "[[ 957    0    8    3    2   10   12    4    4   14]\n",
            " [   0 1097    4    0    1    2    2    9    4    3]\n",
            " [   1    1  926   26    6    7    4   30    9    5]\n",
            " [   1    4   14  919    1   67    1    4   14   13]\n",
            " [   0    0   13    0  893    7   13    7    6   27]\n",
            " [   0    0    0   18    0  677   14    0    6    2]\n",
            " [   8    4   14    1   14   15  901    0    9    1]\n",
            " [   3    2   13   10    1    8    0  936    9   15]\n",
            " [   9   27   38   28   13   93   11    5  908   24]\n",
            " [   1    0    2    5   51    6    0   33    5  905]]\n",
            "              precision    recall  f1-score   support\n",
            "\n",
            "           0       0.98      0.94      0.96      1014\n",
            "           1       0.97      0.98      0.97      1122\n",
            "           2       0.90      0.91      0.90      1015\n",
            "           3       0.91      0.89      0.90      1038\n",
            "           4       0.91      0.92      0.92       966\n",
            "           5       0.76      0.94      0.84       717\n",
            "           6       0.94      0.93      0.94       967\n",
            "           7       0.91      0.94      0.92       997\n",
            "           8       0.93      0.79      0.85      1156\n",
            "           9       0.90      0.90      0.90      1008\n",
            "\n",
            "    accuracy                           0.91     10000\n",
            "   macro avg       0.91      0.91      0.91     10000\n",
            "weighted avg       0.92      0.91      0.91     10000\n",
            "\n"
          ],
          "name": "stdout"
        }
      ]
    },
    {
      "cell_type": "code",
      "metadata": {
        "id": "JryxnD-Ke5jf"
      },
      "source": [
        "#precision    recall  f1-score   support\n",
        "\n",
        "           0       0.98      0.94      0.96      1014]\n",
        "#change in the hidden nodes and change the epochs and also the learning rate is changed can cause major changes to the model.\n",
        "# but here we dont change two things like nodes or learning rate at the same time because then we wouldnt know which one lead to a good impact and which one lead to a bad one"
      ],
      "execution_count": null,
      "outputs": []
    }
  ]
}